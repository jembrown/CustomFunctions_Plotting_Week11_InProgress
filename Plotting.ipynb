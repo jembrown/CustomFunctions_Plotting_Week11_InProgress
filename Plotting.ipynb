{
 "cells": [
  {
   "cell_type": "markdown",
   "metadata": {},
   "source": [
    "# Plotting in Python with `Matplotlib`"
   ]
  },
  {
   "cell_type": "markdown",
   "metadata": {},
   "source": [
    "First, we need to import the `pyplot` submodule of `matplotlib`, as well as the `numpy` and `copy` modules."
   ]
  },
  {
   "cell_type": "code",
   "execution_count": null,
   "metadata": {},
   "outputs": [],
   "source": [
    "import matplotlib.pyplot as plt\n",
    "import numpy as np\n",
    "import copy"
   ]
  },
  {
   "cell_type": "markdown",
   "metadata": {},
   "source": [
    "## Line and Scatter Plots"
   ]
  },
  {
   "cell_type": "markdown",
   "metadata": {},
   "source": [
    "The simplest form of plotting with `pyplot` (ie, `plt`) is a line plot that uses two vectors of numbers - one indicating the x coordinates and one indicating the y."
   ]
  },
  {
   "cell_type": "code",
   "execution_count": null,
   "metadata": {},
   "outputs": [],
   "source": [
    "x = np.linspace(1,100,100) # This numpy function generates evenly spaced numbers between 1 and 100\n",
    "\n",
    "y = copy.copy(x)  # Initialize y as a deep copy of x, so that changes to y do not affect x\n",
    "\n",
    "for i in range(len(y)):\n",
    "    y[i] = y[i] + np.random.normal(0,5,1)  # Add some random noise to the y values\n"
   ]
  },
  {
   "cell_type": "markdown",
   "metadata": {},
   "source": [
    "To create a simple line plot, we can use the `.plot()` function of `pyplot`"
   ]
  },
  {
   "cell_type": "code",
   "execution_count": null,
   "metadata": {},
   "outputs": [],
   "source": [
    "plt.plot(x,y)"
   ]
  },
  {
   "cell_type": "markdown",
   "metadata": {},
   "source": [
    "Now, let's say we want to label our axes (which, as good scientists we should always do!). We can call the `.xlabel()` and `.ylabel()` functions from `pyplot` before we call `.plot()`."
   ]
  },
  {
   "cell_type": "code",
   "execution_count": null,
   "metadata": {},
   "outputs": [],
   "source": [
    "plt.ylabel(\"Distance\")\n",
    "plt.xlabel(\"Day\")\n",
    "plt.plot(x,y)"
   ]
  },
  {
   "cell_type": "markdown",
   "metadata": {},
   "source": [
    "Ok, this is looking better, but now we'd like to know how the observed trend compares to a line with slope 1 and intercept 0. We can add a second line to our plot with the x values on both axes."
   ]
  },
  {
   "cell_type": "code",
   "execution_count": null,
   "metadata": {},
   "outputs": [],
   "source": [
    "plt.ylabel(\"Distance\")\n",
    "plt.xlabel(\"Day\")\n",
    "plt.plot(x,y)\n",
    "plt.plot(x,x)"
   ]
  },
  {
   "cell_type": "markdown",
   "metadata": {},
   "source": [
    "Note how `matplotlib` automagically changes the color of our 2nd line to be different than the first.\n",
    "\n",
    "I actually really like these defaults, but let's say that we have a good reason that we want to make some changes. First, we want our 1:1 line underneath and we want it to be a blue, dashed line. For our data, we want to try red dots. `pyplot` let's us pass a third argument to `.plot()` that will adjust the color and style of plotting. The first letter (`b` or `r` here) will set the color and the next symbols (`o` or `--` here) change the plotting style."
   ]
  },
  {
   "cell_type": "code",
   "execution_count": null,
   "metadata": {},
   "outputs": [],
   "source": [
    "plt.ylabel(\"Distance\")\n",
    "plt.xlabel(\"Day\")\n",
    "plt.plot(x,x,'b--')  # blue (b), dashed line (--)\n",
    "plt.plot(x,y,'ro')   # red (r) points (o)"
   ]
  },
  {
   "cell_type": "markdown",
   "metadata": {},
   "source": [
    "Here's a variant that uses a dotted 1:1 line."
   ]
  },
  {
   "cell_type": "code",
   "execution_count": null,
   "metadata": {},
   "outputs": [],
   "source": [
    "plt.ylabel(\"Distance\")\n",
    "plt.xlabel(\"Day\")\n",
    "plt.plot(x,x,'b:')  # blue, dotted line\n",
    "plt.plot(x,y,'ro')  # red points"
   ]
  },
  {
   "cell_type": "markdown",
   "metadata": {},
   "source": [
    "Ok, I actually prefer the solid 1:1 line, so let's go back to that, but let's make the line thicker."
   ]
  },
  {
   "cell_type": "code",
   "execution_count": null,
   "metadata": {},
   "outputs": [],
   "source": [
    "plt.ylabel(\"Distance\")\n",
    "plt.xlabel(\"Day\")\n",
    "plt.plot(x,x,'b',linewidth=3)  # We don't change the line type, but we do change its width.\n",
    "plt.plot(x,y,'ro')"
   ]
  },
  {
   "cell_type": "markdown",
   "metadata": {},
   "source": [
    "In many cases, we have multiple groups that we want to depict in a single scatter plot. In this case, we can use two `.plot()` calls back-to-back and `matplotlib` will color the two groups separately."
   ]
  },
  {
   "cell_type": "code",
   "execution_count": null,
   "metadata": {},
   "outputs": [],
   "source": [
    "# Generating fake coordinates for group 1\n",
    "x_1 = np.random.normal(5,1,300)\n",
    "y_1 = np.random.normal(5,1,300)\n",
    "\n",
    "# Generating fake coordinates for group 2\n",
    "x_2 = np.random.normal(7,1,300)\n",
    "y_2 = np.random.normal(7,1,300)\n",
    "\n",
    "plt.plot(x_1,y_1,'o')  # Plot group 1 as points\n",
    "plt.plot(x_2,y_2,'o')  # Plot group 2 as points\n",
    "plt.xlabel(\"Trait 1\")  # Label axes\n",
    "plt.ylabel(\"Trait 2\")"
   ]
  },
  {
   "cell_type": "markdown",
   "metadata": {},
   "source": [
    "Because the two groups overlap some and the points are relatively large, it can be difficult to see some points. In this case, we may want to reduce the sizes of the points using the `markersize` argument. We can also make the symbols different between the groups to make them more distinctive."
   ]
  },
  {
   "cell_type": "code",
   "execution_count": null,
   "metadata": {},
   "outputs": [],
   "source": [
    "x_1 = np.random.normal(5,1,300)\n",
    "y_1 = np.random.normal(5,1,300)\n",
    "\n",
    "x_2 = np.random.normal(7,1,300)\n",
    "y_2 = np.random.normal(7,1,300)\n",
    "\n",
    "plt.plot(x_1,y_1,'^',markersize=3)  # Changing point type and size\n",
    "plt.plot(x_2,y_2,'o',markersize=3)\n",
    "plt.xlabel(\"Trait 1\")\n",
    "plt.ylabel(\"Trait 2\")"
   ]
  },
  {
   "cell_type": "markdown",
   "metadata": {},
   "source": [
    "## Multiple Plots"
   ]
  },
  {
   "cell_type": "markdown",
   "metadata": {},
   "source": [
    "It is often convenient to show two or more plots together. Thankfully `pyplot` gives us an easy way to group plots."
   ]
  },
  {
   "cell_type": "code",
   "execution_count": null,
   "metadata": {},
   "outputs": [],
   "source": [
    "# The plt.figure() function creates the overall plotting region\n",
    "# The optional figsize argument allows us to adjust the plotting region's size\n",
    "\n",
    "plt.figure(figsize=(10,4))\n",
    "\n",
    "# The plt.subplot() function specifies where the first plot should go\n",
    "# The first number indicates the number of rows\n",
    "# The second number indicates the number of columns\n",
    "# The third number indicates the position of the plot\n",
    "\n",
    "plt.subplot(121)\n",
    "plt.plot(x_1,y_1,'bo')\n",
    "\n",
    "# We use the same dimensions (1 row, 2 columns) for the second plot, but \n",
    "# use position 2\n",
    "\n",
    "plt.subplot(122)\n",
    "plt.plot(x_2,y_2,'ro')\n",
    "\n",
    "# After we've added the plots, we show the overall figure\n",
    "\n",
    "plt.show()"
   ]
  },
  {
   "cell_type": "markdown",
   "metadata": {},
   "source": [
    "By default, `pyplot` will match the minimum and maximum extent of each axis to the data being plotted. But in some cases, we'd like to have control over the axes to make plots equivalent."
   ]
  },
  {
   "cell_type": "code",
   "execution_count": null,
   "metadata": {},
   "outputs": [],
   "source": [
    "plt.figure(figsize=(10,4))\n",
    "\n",
    "plt.subplot(121)\n",
    "plt.axis([0,11,0,11])  # Adding axis limits [xMin,xMax,yMin,yMax]\n",
    "plt.plot(x_1,y_1,'bo')\n",
    "\n",
    "plt.subplot(122)\n",
    "plt.axis([0,11,0,11])\n",
    "plt.plot(x_2,y_2,'ro')\n",
    "\n",
    "plt.show()"
   ]
  },
  {
   "cell_type": "markdown",
   "metadata": {},
   "source": [
    "## Categorical Variables"
   ]
  },
  {
   "cell_type": "markdown",
   "metadata": {},
   "source": [
    "We don't always have two numerical coordinates for each data point. Sometimes, we have data that are naturally categorized in different groups and we're measuring one numeric value per group."
   ]
  },
  {
   "cell_type": "code",
   "execution_count": null,
   "metadata": {},
   "outputs": [],
   "source": [
    "groups = [\"groupOne\",\"groupTwo\",\"groupThree\",\"groupFour\"]     # Define names of groups\n",
    "values = np.random.normal(10,2,4) # Drawing four numbers to act as values for groups\n",
    "plt.bar(groups,values)"
   ]
  },
  {
   "cell_type": "markdown",
   "metadata": {},
   "source": [
    "The `.plot()` function can still be used to plot values from categorical variables as a line plot. In this context, line plots make less sense, unless the groups have a natural ordering."
   ]
  },
  {
   "cell_type": "code",
   "execution_count": null,
   "metadata": {},
   "outputs": [],
   "source": [
    "plt.plot(groups,values,\"purple\",linewidth=3) # Using full word to specify color"
   ]
  },
  {
   "cell_type": "markdown",
   "metadata": {},
   "source": [
    "## Histograms"
   ]
  },
  {
   "cell_type": "markdown",
   "metadata": {},
   "source": [
    "Histograms are very useful for visualizing the frequencies of different numeric values in a large group. Let's start with a very simple example using random values drawn from a Normal distribution."
   ]
  },
  {
   "cell_type": "code",
   "execution_count": null,
   "metadata": {},
   "outputs": [],
   "source": [
    "exampleNums = np.random.normal(0,2,500) # Example data\n",
    "\n",
    "plt.hist(exampleNums,50)\n",
    "plt.show()"
   ]
  },
  {
   "cell_type": "markdown",
   "metadata": {},
   "source": [
    "We can also customize the appearance of histograms. Here, we've added gridlines, changed the color, changed the transparency (also known as alpha), and oriented the plot horizontally. We've also written the different arguments to the `.hist()` function on different lines, so that we can comment each of them individually."
   ]
  },
  {
   "cell_type": "code",
   "execution_count": null,
   "metadata": {},
   "outputs": [],
   "source": [
    "plt.hist(exampleNums,               # Example data (the only required argument)\n",
    "         50,                        # Number of bins\n",
    "         color=\"orange\",            # Color of the bars\n",
    "         alpha=0.5,                 # Transparency of the bars (1=solid,0=totally transparent)\n",
    "         orientation=\"horizontal\")  # Orienting horizontally\n",
    "plt.grid(True)\n",
    "plt.show()"
   ]
  },
  {
   "cell_type": "markdown",
   "metadata": {},
   "source": [
    "Here is an example with real data showing confirmed cases of COVID-19 across all US states and territories for 4/7/2020."
   ]
  },
  {
   "cell_type": "code",
   "execution_count": null,
   "metadata": {},
   "outputs": [],
   "source": [
    "stateCounts = [2197,211,2575,997,17540,5429,7781,928,1211,14739,9156,274,408,1210,13549,5507,1048,905,1289,16284,519,4371,15202,18852,1069,1915,3037,319,490,2101,747,44416,794,140081,3220,237,8,4782,1472,1181,14582,573,1229,2417,320,4010,8974,1752,575,45,3333,8682,412,2578,221]"
   ]
  },
  {
   "cell_type": "code",
   "execution_count": null,
   "metadata": {},
   "outputs": [],
   "source": [
    "plt.hist(stateCounts,30)\n",
    "plt.show()"
   ]
  },
  {
   "cell_type": "markdown",
   "metadata": {},
   "source": [
    "You can clearly see how skewed the distribution of case counts is across the US, with nearly 140,000 cases in New York and more than 40,000 in New Jersey. Because the counts are so skewed, it may be helpful to change from using a linear scale of counts to a log scale. To do this, we need to do two things. We need to tell `pyplot` to change the x-axis to a log scale, which we do with `plt.scale(\"log\")`. We also need to generate bins that are equally spaced on a log scale. Thankfully, `numpy` has a built-in function that can help us - `.logspace()` - which we use to pass the boundaries of our bins to `.hist()`."
   ]
  },
  {
   "cell_type": "code",
   "execution_count": null,
   "metadata": {},
   "outputs": [],
   "source": [
    "plt.hist(stateCounts,\n",
    "         bins=np.logspace(0,6,20))  # Using numpy to generate 20 values evenly spaced on a log\n",
    "                                    # scale from 10^0 to 10^6. These values will define the \n",
    "                                    # boundaries of our histogram bins.\n",
    "        \n",
    "plt.xscale(\"log\")              # Creating a log x-scale for our histogram\n",
    "\n",
    "plt.grid(True,alpha=0.4)       # Adding grid and adjusting transparency\n",
    "\n",
    "plt.show()                     # Displaying the histogram"
   ]
  }
 ],
 "metadata": {
  "kernelspec": {
   "display_name": "Python 3",
   "language": "python",
   "name": "python3"
  },
  "language_info": {
   "codemirror_mode": {
    "name": "ipython",
    "version": 3
   },
   "file_extension": ".py",
   "mimetype": "text/x-python",
   "name": "python",
   "nbconvert_exporter": "python",
   "pygments_lexer": "ipython3",
   "version": "3.7.6"
  }
 },
 "nbformat": 4,
 "nbformat_minor": 4
}
